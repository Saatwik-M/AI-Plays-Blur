{
 "cells": [
  {
   "cell_type": "code",
   "execution_count": 1,
   "id": "d3371b14",
   "metadata": {},
   "outputs": [],
   "source": [
    "import numpy as np\n",
    "import pandas as pd\n",
    "import cv2\n",
    "import os\n",
    "from config import *\n",
    "from helper_functions import *\n",
    "from model_functions import single_image_simple_model\n",
    "import tensorflow as tf\n",
    "import numbers\n",
    "from tensorflow import keras\n",
    "from tensorflow.keras import layers\n",
    "import matplotlib.pyplot as plt\n",
    "import random\n",
    "from sklearn.model_selection import train_test_split\n",
    "import gc"
   ]
  },
  {
   "cell_type": "code",
   "execution_count": 2,
   "id": "1b4134bd",
   "metadata": {},
   "outputs": [
    {
     "data": {
      "text/plain": [
       "Index(['q', 'w', 's', 'a', 'd', 'left_arrow', 'up_arrow', 'right_arrow',\n",
       "       'down_arrow', 'time'],\n",
       "      dtype='object')"
      ]
     },
     "execution_count": 2,
     "metadata": {},
     "output_type": "execute_result"
    }
   ],
   "source": [
    "imagefiles = [f for f in os.listdir(os.path.join(raw_data_folder, 'singleProc')) if os.path.isfile(os.path.join(raw_data_folder, 'singleProc', f)) and os.path.join(raw_data_folder, 'singleProc', f).split('.')[-1] == 'png']\n",
    "keys_df = pd.read_csv(os.path.join(raw_data_folder, 'keyStrokesRaw.csv'))\n",
    "keys_df.columns"
   ]
  },
  {
   "cell_type": "code",
   "execution_count": 3,
   "id": "43685cde",
   "metadata": {},
   "outputs": [
    {
     "name": "stdout",
     "output_type": "stream",
     "text": [
      "Loading Data 16346/16346 [##################################################]                                                                                                                                                                                                                                                                                                                                                                                                                                                                                                                                                          \n",
      "Images Shape: (16346, 299, 299, 3)\n",
      "Labels Shape: (16346, 6)\n"
     ]
    }
   ],
   "source": [
    "images = []\n",
    "labels = []\n",
    "total_files = len(imagefiles)\n",
    "for i, filename in enumerate(imagefiles):\n",
    "    keys = np.array(get_key_pressed(int(filename.split('.')[0]), 100, keys_df))\n",
    "    if float('nan') not in keys:\n",
    "        img = cv2.imread(os.path.join(raw_data_folder, 'singleProc', filename), 1)[:,:,::-1]\n",
    "        images.append(img)\n",
    "        labels.append(keys[[1, 2, 5, 6, 7, 8]])\n",
    "    print_progress(i+1, total_files, before_msg='Loading Data')\n",
    "images = np.array(images)\n",
    "labels = np.array(labels)\n",
    "print('Images Shape:', images.shape)\n",
    "print('Labels Shape:', labels.shape)"
   ]
  },
  {
   "cell_type": "code",
   "execution_count": 4,
   "id": "9f6d8b34",
   "metadata": {},
   "outputs": [],
   "source": [
    "def aug_combo(img):\n",
    "    \"\"\"\n",
    "    Apply random augmentations to the image\n",
    "    img: ndarray\n",
    "    \"\"\"\n",
    "    sometimes = lambda aug: iaa.Sometimes(0.5, aug)\n",
    "    combo = iaa.SomeOf((0,5),\n",
    "                   [iaa.Add((-15, 15), per_channel=0.5),\n",
    "                    iaa.LinearContrast((0.5, 2.0), per_channel=0.5),\n",
    "#                     sometimes(iaa.ElasticTransformation(alpha=(0, img.shape[0]//5), sigma=img.shape[0]//50)),\n",
    "                    sometimes(iaa.PiecewiseAffine(scale=(0.01, 0.02))),\n",
    "                    iaa.Grayscale(alpha=(0.0, 0.3)),\n",
    "                    iaa.AdditiveGaussianNoise(loc=0, scale=(0.0, 0.05*255), per_channel=0.5),\n",
    "                    iaa.Affine(shear=(0,10)),\n",
    "                    iaa.OneOf([iaa.GaussianBlur((0, 3)),\n",
    "                               iaa.AverageBlur(k=(2, 7)),\n",
    "                               iaa.MedianBlur(k=(3, 11)),\n",
    "                               iaa.MotionBlur(k=(5,10))]),\n",
    "                    iaa.Multiply((0.8, 1.2), per_channel=0.5)], random_order=True)\n",
    "    return (combo.augment_image(img))"
   ]
  },
  {
   "cell_type": "code",
   "execution_count": 5,
   "id": "04b86bfb",
   "metadata": {},
   "outputs": [],
   "source": [
    "def custom_data_generator(X, y, class_percent=None, batch_size=32, steps=1, train=True):\n",
    "    while True:\n",
    "        if train:\n",
    "            images = []\n",
    "            labels = []\n",
    "            images_per_class = (np.array(class_percent)/100 * batch_size).round()\n",
    "            if int(sum(images_per_class)) != batch_size:\n",
    "                images_per_class[random.randint(0, len(class_percent)-1)] += 1\n",
    "            for i, p in enumerate(images_per_class):\n",
    "                if sum(y[:,i] == 1) != 0:\n",
    "                    select_index = np.random.randint(0, sum(y[:,i] == 1), int(p))\n",
    "                    images.extend(X[y[:,i] == 1][select_index])\n",
    "                    labels.extend(y[y[:,i] == 1][select_index])\n",
    "            images = np.array(list(map(aug_combo, images)))/255\n",
    "            labels = np.array(labels)\n",
    "            yield (images, labels)\n",
    "        else:\n",
    "            n = len(y)/steps\n",
    "            if n - int(n) != 0:\n",
    "                n+=1\n",
    "            indexes = list(range(len(y)))\n",
    "            index_batches = [indexes[i:i + int(n)] for i in range(0, len(indexes), int(n))]\n",
    "            for ids in index_batches:\n",
    "                images = X[ids]/255\n",
    "                labels = y[ids]\n",
    "                yield (images, labels)"
   ]
  },
  {
   "cell_type": "code",
   "execution_count": 6,
   "id": "b25d2e30",
   "metadata": {},
   "outputs": [
    {
     "name": "stdout",
     "output_type": "stream",
     "text": [
      "X_train Shape: (13076, 299, 299, 3)\n",
      "y_train Shape: (13076, 6)\n",
      "X_valid Shape: (3270, 299, 299, 3)\n",
      "y_valid Shape: (3270, 6)\n"
     ]
    },
    {
     "data": {
      "text/plain": [
       "0"
      ]
     },
     "execution_count": 6,
     "metadata": {},
     "output_type": "execute_result"
    }
   ],
   "source": [
    "X_train, X_valid, y_train, y_valid = train_test_split(images, labels, test_size=0.20, random_state=42)\n",
    "print('X_train Shape:', X_train.shape)\n",
    "print('y_train Shape:', y_train.shape)\n",
    "print('X_valid Shape:', X_valid.shape)\n",
    "print('y_valid Shape:', y_valid.shape)\n",
    "\n",
    "del images, labels\n",
    "gc.collect()"
   ]
  },
  {
   "cell_type": "code",
   "execution_count": 7,
   "id": "7432b1a5",
   "metadata": {},
   "outputs": [],
   "source": [
    "loss_model = keras.models.load_model('models/loss_fn_6_1')\n",
    "for l in loss_model.layers: \n",
    "    l.trainable=False\n",
    "    \n",
    "def custom_lossfn(y_true, y_pred):\n",
    "    return tf.math.reduce_sum(layers.ReLU()(loss_model([y_true, y_pred])))\n",
    "\n",
    "def cLoss(y_true, y_pred):\n",
    "    return tf.math.reduce_mean(layers.ReLU()(loss_model([y_true, y_pred])))\n",
    "\n",
    "# def t2et(t):\n",
    "#     return t.numpy()\n",
    "\n",
    "# def cAcc(y_true, y_pred):\n",
    "#     y_true = tf.py_function(func=t2et, inp=[y_true], Tout=tf.float32).numpy()\n",
    "#     y_pred = tf.py_function(func=t2et, inp=[y_pred], Tout=tf.float32).numpy()\n",
    "#     cp = 0\n",
    "#     tp = 0\n",
    "#     for i, row in enumerate((y_pred>0.5)/1):\n",
    "#         for j, p in enumerate(row):\n",
    "#             if p==1 or y_true[i][j] == 1:\n",
    "#                 if p == y_true[i][j]:\n",
    "#                     cp+=1\n",
    "#                 tp+=1\n",
    "#     return tf.constant(cp/tp)"
   ]
  },
  {
   "cell_type": "code",
   "execution_count": 8,
   "id": "495ef77e",
   "metadata": {},
   "outputs": [],
   "source": [
    "def conv_layer(input_tensor, filters, kernel_size, strides, padding, activation, normalization, dropout_rate):\n",
    "    x = layers.Conv2D(filters = filters, kernel_size = kernel_size, strides=strides,\\\n",
    "                      padding=padding, activation=activation)(input_tensor)\n",
    "    if normalization == 'batch':\n",
    "        x = layers.BatchNormalization()(x)\n",
    "    if normalization == 'layer':\n",
    "        x = layers.LayerNormalization()(x)\n",
    "    if dropout_rate > 0:\n",
    "        x = layers.Dropout(dropout_rate)(x)\n",
    "    return x\n",
    "\n",
    "def dense_layer(input_tensor, units, activation, normalization, dropout_rate):\n",
    "    x = layers.Dense(units=units, activation=activation)(input_tensor)\n",
    "    if normalization == 'batch':\n",
    "        x = layers.BatchNormalization()(x)\n",
    "    if normalization == 'layer':\n",
    "        x = layers.LayerNormalization()(x)\n",
    "    if dropout_rate > 0:\n",
    "        x = layers.Dropout(dropout_rate)(x)\n",
    "    return x\n",
    "\n",
    "def single_image_simple_model(input_shape, classes, optimizer, conv_normalization = None, dense_normalization = None, \\\n",
    "                                 conv_dropout=0, dense_dropout=0):\n",
    "    conv_layer_count = 5\n",
    "    if isinstance(conv_dropout, numbers.Number):\n",
    "        conv_dropout = [conv_dropout] * conv_layer_count\n",
    "\n",
    "    dense_layer_count = 2\n",
    "    if isinstance(dense_dropout, numbers.Number):\n",
    "        dense_dropout = [dense_dropout] * dense_layer_count\n",
    "\n",
    "    image_input = keras.Input(shape=input_shape)\n",
    "\n",
    "    x = conv_layer(image_input, 24, (5,5), (2,2), 'valid', 'relu', conv_normalization, conv_dropout[0])\n",
    "    x = conv_layer(x, 32, (5,5), (2,2), 'valid', 'relu', conv_normalization, conv_dropout[1])\n",
    "    x = conv_layer(x, 48, (3,3), (2,2), 'valid', 'relu', conv_normalization, conv_dropout[2])\n",
    "    x = conv_layer(x, 64, (3,3), (1,1), 'valid', 'relu', conv_normalization, conv_dropout[3])\n",
    "    x = conv_layer(x, 64, (3,3), (1,1), 'valid', 'relu', conv_normalization, conv_dropout[4])\n",
    "\n",
    "    x = layers.Flatten()(x)\n",
    "\n",
    "    x = dense_layer(x, 128, 'relu', dense_normalization, dense_dropout[0])\n",
    "    x = dense_layer(x, 64, 'relu', dense_normalization, dense_dropout[1])\n",
    "\n",
    "    output = layers.Dense(units=classes, activation='sigmoid')(x)\n",
    "\n",
    "    model = keras.Model(inputs=image_input, outputs=output, name=\"single_image_simple_model\")\n",
    "    model.compile(optimizer=optimizer, loss=custom_lossfn, metrics=[cLoss, 'accuracy'])\n",
    "    return model"
   ]
  },
  {
   "cell_type": "code",
   "execution_count": 9,
   "id": "7a3b6fae",
   "metadata": {},
   "outputs": [
    {
     "name": "stdout",
     "output_type": "stream",
     "text": [
      "Model: \"single_image_simple_model\"\n",
      "_________________________________________________________________\n",
      "Layer (type)                 Output Shape              Param #   \n",
      "=================================================================\n",
      "input_1 (InputLayer)         [(None, 299, 299, 3)]     0         \n",
      "_________________________________________________________________\n",
      "conv2d (Conv2D)              (None, 148, 148, 24)      1824      \n",
      "_________________________________________________________________\n",
      "batch_normalization (BatchNo (None, 148, 148, 24)      96        \n",
      "_________________________________________________________________\n",
      "conv2d_1 (Conv2D)            (None, 72, 72, 32)        19232     \n",
      "_________________________________________________________________\n",
      "batch_normalization_1 (Batch (None, 72, 72, 32)        128       \n",
      "_________________________________________________________________\n",
      "conv2d_2 (Conv2D)            (None, 35, 35, 48)        13872     \n",
      "_________________________________________________________________\n",
      "batch_normalization_2 (Batch (None, 35, 35, 48)        192       \n",
      "_________________________________________________________________\n",
      "conv2d_3 (Conv2D)            (None, 33, 33, 64)        27712     \n",
      "_________________________________________________________________\n",
      "batch_normalization_3 (Batch (None, 33, 33, 64)        256       \n",
      "_________________________________________________________________\n",
      "conv2d_4 (Conv2D)            (None, 31, 31, 64)        36928     \n",
      "_________________________________________________________________\n",
      "batch_normalization_4 (Batch (None, 31, 31, 64)        256       \n",
      "_________________________________________________________________\n",
      "flatten (Flatten)            (None, 61504)             0         \n",
      "_________________________________________________________________\n",
      "dense (Dense)                (None, 128)               7872640   \n",
      "_________________________________________________________________\n",
      "batch_normalization_5 (Batch (None, 128)               512       \n",
      "_________________________________________________________________\n",
      "dense_1 (Dense)              (None, 64)                8256      \n",
      "_________________________________________________________________\n",
      "batch_normalization_6 (Batch (None, 64)                256       \n",
      "_________________________________________________________________\n",
      "dense_2 (Dense)              (None, 6)                 390       \n",
      "=================================================================\n",
      "Total params: 7,982,550\n",
      "Trainable params: 7,981,702\n",
      "Non-trainable params: 848\n",
      "_________________________________________________________________\n"
     ]
    }
   ],
   "source": [
    "model = single_image_simple_model((299, 299, 3), 6, 'adam', 'batch', 'batch')\n",
    "model.summary()"
   ]
  },
  {
   "cell_type": "code",
   "execution_count": 10,
   "id": "a0c71c8e",
   "metadata": {},
   "outputs": [
    {
     "data": {
      "image/png": "[encoded data removed]",
      "text/plain": [
       "<IPython.core.display.Image object>"
      ]
     },
     "execution_count": 10,
     "metadata": {},
     "output_type": "execute_result"
    }
   ],
   "source": [
    "tf.keras.utils.plot_model(model, show_shapes=True, show_layer_names=False, rankdir=\"TB\", expand_nested=False, dpi=75)"
   ]
  },
  {
   "cell_type": "code",
   "execution_count": 11,
   "id": "1208bd38",
   "metadata": {},
   "outputs": [
    {
     "name": "stdout",
     "output_type": "stream",
     "text": [
      "Epoch 1/25\n",
      "100/100 [==============================] - 484s 5s/step - loss: 61.0352 - cLoss: 0.4768 - accuracy: 0.6212 - val_loss: nan - val_cLoss: nan - val_accuracy: 0.3192\n",
      "Epoch 2/25\n",
      "100/100 [==============================] - 469s 5s/step - loss: 31.4496 - cLoss: 0.2457 - accuracy: 0.8036 - val_loss: nan - val_cLoss: nan - val_accuracy: 0.3704\n",
      "Epoch 3/25\n",
      "100/100 [==============================] - 465s 5s/step - loss: 22.5835 - cLoss: 0.1764 - accuracy: 0.8105 - val_loss: nan - val_cLoss: nan - val_accuracy: 0.3418\n",
      "Epoch 4/25\n",
      "100/100 [==============================] - 471s 5s/step - loss: 7.6503 - cLoss: 0.0598 - accuracy: 0.7671 - val_loss: nan - val_cLoss: nan - val_accuracy: 0.3214\n",
      "Epoch 5/25\n",
      "100/100 [==============================] - 463s 5s/step - loss: 2.0184 - cLoss: 0.0158 - accuracy: 0.7504 - val_loss: nan - val_cLoss: nan - val_accuracy: 0.3105\n",
      "Epoch 6/25\n",
      "100/100 [==============================] - 472s 5s/step - loss: 1.1036 - cLoss: 0.0086 - accuracy: 0.7416 - val_loss: nan - val_cLoss: nan - val_accuracy: 0.3524\n",
      "Epoch 7/25\n",
      "100/100 [==============================] - 463s 5s/step - loss: 0.8117 - cLoss: 0.0063 - accuracy: 0.7487 - val_loss: nan - val_cLoss: nan - val_accuracy: 0.3211\n",
      "Epoch 8/25\n",
      "100/100 [==============================] - 471s 5s/step - loss: 0.5772 - cLoss: 0.0045 - accuracy: 0.7603 - val_loss: nan - val_cLoss: nan - val_accuracy: 0.3520\n",
      "Epoch 9/25\n",
      "100/100 [==============================] - 466s 5s/step - loss: 0.6677 - cLoss: 0.0052 - accuracy: 0.7595 - val_loss: nan - val_cLoss: nan - val_accuracy: 0.3486\n",
      "Epoch 10/25\n",
      "100/100 [==============================] - 469s 5s/step - loss: 0.5384 - cLoss: 0.0042 - accuracy: 0.7570 - val_loss: nan - val_cLoss: nan - val_accuracy: 0.3204\n",
      "Epoch 11/25\n",
      "100/100 [==============================] - 472s 5s/step - loss: 0.5530 - cLoss: 0.0043 - accuracy: 0.7452 - val_loss: nan - val_cLoss: nan - val_accuracy: 0.3412\n",
      "Epoch 12/25\n",
      "100/100 [==============================] - 464s 5s/step - loss: 0.2904 - cLoss: 0.0023 - accuracy: 0.7557 - val_loss: nan - val_cLoss: nan - val_accuracy: 0.3490\n",
      "Epoch 13/25\n",
      "100/100 [==============================] - 468s 5s/step - loss: 0.3576 - cLoss: 0.0028 - accuracy: 0.7512 - val_loss: nan - val_cLoss: nan - val_accuracy: 0.3310\n",
      "Epoch 14/25\n",
      "100/100 [==============================] - 478s 5s/step - loss: 0.2610 - cLoss: 0.0020 - accuracy: 0.7588 - val_loss: nan - val_cLoss: nan - val_accuracy: 0.3340\n",
      "Epoch 15/25\n",
      "100/100 [==============================] - 458s 5s/step - loss: 0.4486 - cLoss: 0.0035 - accuracy: 0.7362 - val_loss: nan - val_cLoss: nan - val_accuracy: 0.3364\n",
      "Epoch 16/25\n",
      "100/100 [==============================] - 456s 5s/step - loss: 0.2641 - cLoss: 0.0021 - accuracy: 0.7413 - val_loss: nan - val_cLoss: nan - val_accuracy: 0.3395\n",
      "Epoch 17/25\n",
      "100/100 [==============================] - 467s 5s/step - loss: 0.3699 - cLoss: 0.0029 - accuracy: 0.7455 - val_loss: nan - val_cLoss: nan - val_accuracy: 0.3330\n",
      "Epoch 18/25\n",
      "100/100 [==============================] - 452s 5s/step - loss: 0.2308 - cLoss: 0.0018 - accuracy: 0.7389 - val_loss: nan - val_cLoss: nan - val_accuracy: 0.3578\n",
      "Epoch 19/25\n",
      "100/100 [==============================] - 469s 5s/step - loss: 0.2277 - cLoss: 0.0018 - accuracy: 0.7427 - val_loss: nan - val_cLoss: nan - val_accuracy: 0.3585\n",
      "Epoch 20/25\n",
      "100/100 [==============================] - 459s 5s/step - loss: 0.2051 - cLoss: 0.0016 - accuracy: 0.7440 - val_loss: nan - val_cLoss: nan - val_accuracy: 0.3310\n",
      "Epoch 21/25\n",
      "100/100 [==============================] - 464s 5s/step - loss: 0.2392 - cLoss: 0.0019 - accuracy: 0.7405 - val_loss: nan - val_cLoss: nan - val_accuracy: 0.3146\n",
      "Epoch 22/25\n",
      "100/100 [==============================] - 470s 5s/step - loss: 0.2499 - cLoss: 0.0020 - accuracy: 0.7380 - val_loss: nan - val_cLoss: nan - val_accuracy: 0.3565\n",
      "Epoch 23/25\n",
      "100/100 [==============================] - 479s 5s/step - loss: 0.2963 - cLoss: 0.0023 - accuracy: 0.7234 - val_loss: nan - val_cLoss: nan - val_accuracy: 0.3378\n",
      "Epoch 24/25\n",
      "100/100 [==============================] - 479s 5s/step - loss: 0.3112 - cLoss: 0.0024 - accuracy: 0.7173 - val_loss: nan - val_cLoss: nan - val_accuracy: 0.3405\n",
      "Epoch 25/25\n",
      "100/100 [==============================] - 453s 5s/step - loss: 0.1648 - cLoss: 0.0013 - accuracy: 0.7240 - val_loss: nan - val_cLoss: nan - val_accuracy: 0.3458\n"
     ]
    }
   ],
   "source": [
    "# keys_percent = [15, 10, 0, 0, 30, 10, 25, 10]\n",
    "keys_percent = [15, 10, 30, 10, 25, 10]\n",
    "train_generator = custom_data_generator(X_train, y_train, keys_percent, 256)\n",
    "valid_generator = custom_data_generator(X_valid, y_valid, steps=25, train=False)\n",
    "\n",
    "history = model.fit(train_generator, epochs = 40, steps_per_epoch = 25, \\\n",
    "                    validation_data=valid_generator, validation_steps=25)"
   ]
  },
  {
   "cell_type": "code",
   "execution_count": 12,
   "id": "7ea6888f",
   "metadata": {},
   "outputs": [
    {
     "data": {
      "text/plain": [
       "<matplotlib.legend.Legend at 0x1af3997cf40>"
      ]
     },
     "execution_count": 12,
     "metadata": {},
     "output_type": "execute_result"
    },
    {
     "data": {
      "image/png": "[encoded data removed]",
      "text/plain": [
       "<Figure size 432x288 with 1 Axes>"
      ]
     },
     "metadata": {
      "needs_background": "light"
     },
     "output_type": "display_data"
    }
   ],
   "source": [
    "plt.plot(history.history['loss'], label='loss')\n",
    "plt.plot(history.history['val_loss'], label='val_loss')\n",
    "plt.legend()"
   ]
  },
  {
   "cell_type": "code",
   "execution_count": 13,
   "id": "a9ec8b77",
   "metadata": {},
   "outputs": [
    {
     "data": {
      "text/plain": [
       "<matplotlib.legend.Legend at 0x1af3bdfda00>"
      ]
     },
     "execution_count": 13,
     "metadata": {},
     "output_type": "execute_result"
    },
    {
     "data": {
      "image/png": "[encoded data removed]",
      "text/plain": [
       "<Figure size 432x288 with 1 Axes>"
      ]
     },
     "metadata": {
      "needs_background": "light"
     },
     "output_type": "display_data"
    }
   ],
   "source": [
    "plt.plot(history.history['cLoss'], label='cLoss')\n",
    "plt.plot(history.history['val_cLoss'], label='val_cLoss')\n",
    "plt.legend()"
   ]
  },
  {
   "cell_type": "code",
   "execution_count": 14,
   "id": "7c3b5413",
   "metadata": {},
   "outputs": [
    {
     "data": {
      "text/plain": [
       "<matplotlib.legend.Legend at 0x1af3be79670>"
      ]
     },
     "execution_count": 14,
     "metadata": {},
     "output_type": "execute_result"
    },
    {
     "data": {
      "image/png": "[encoded data removed]",
      "text/plain": [
       "<Figure size 432x288 with 1 Axes>"
      ]
     },
     "metadata": {
      "needs_background": "light"
     },
     "output_type": "display_data"
    }
   ],
   "source": [
    "plt.plot(history.history['accuracy'], label='accuracy')\n",
    "plt.plot(history.history['val_accuracy'], label='val_accuracy')\n",
    "plt.legend()"
   ]
  },
  {
   "cell_type": "code",
   "execution_count": 15,
   "id": "fd358a22",
   "metadata": {},
   "outputs": [
    {
     "name": "stdout",
     "output_type": "stream",
     "text": [
      "INFO:tensorflow:Assets written to: models/test_baseline_model_4\\assets\n"
     ]
    }
   ],
   "source": [
    "model.save('models/test_baseline_model_4')"
   ]
  },
  {
   "cell_type": "code",
   "execution_count": null,
   "id": "24139a73",
   "metadata": {},
   "outputs": [],
   "source": []
  }
 ],
 "metadata": {
  "kernelspec": {
   "display_name": "Python [conda env:aib]",
   "language": "python",
   "name": "conda-env-aib-py"
  },
  "language_info": {
   "codemirror_mode": {
    "name": "ipython",
    "version": 3
   },
   "file_extension": ".py",
   "mimetype": "text/x-python",
   "name": "python",
   "nbconvert_exporter": "python",
   "pygments_lexer": "ipython3",
   "version": "3.8.11"
  }
 },
 "nbformat": 4,
 "nbformat_minor": 5
}
