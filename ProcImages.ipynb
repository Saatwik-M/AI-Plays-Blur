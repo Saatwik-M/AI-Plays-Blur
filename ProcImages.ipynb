{
 "cells": [
  {
   "cell_type": "code",
   "execution_count": 1,
   "id": "0aacdbb9",
   "metadata": {},
   "outputs": [],
   "source": [
    "import numpy as np\n",
    "import pandas as pd\n",
    "import cv2\n",
    "import os\n",
    "from config import *\n",
    "from helper_functions import *\n",
    "import gc\n",
    "import matplotlib.pyplot as plt\n",
    "import pickle"
   ]
  },
  {
   "cell_type": "code",
   "execution_count": 2,
   "id": "2b2faa88",
   "metadata": {},
   "outputs": [],
   "source": [
    "imagefiles = [f for f in os.listdir(os.path.join(raw_data_folder, 'screenshots')) if os.path.isfile(os.path.join(raw_data_folder, 'screenshots', f)) and os.path.join(raw_data_folder, 'screenshots', f).split('.')[-1] == 'png']"
   ]
  },
  {
   "cell_type": "code",
   "execution_count": 3,
   "id": "ec3bd46f",
   "metadata": {},
   "outputs": [
    {
     "name": "stdout",
     "output_type": "stream",
     "text": [
      "Loading Data 16346/16346 [##################################################]                                                                                                                                                                                                                                                                                                                                                                                                                                                                                                                                                                                                                                                                                                                                                                                                                                              \n"
     ]
    }
   ],
   "source": [
    "total_files = len(imagefiles)\n",
    "for i, filename in enumerate(imagefiles):\n",
    "    img = cv2.imread(os.path.join(raw_data_folder, 'screenshots', filename), 1)[:,:,::-1][75:1001, 450:1501]\n",
    "    img = cv2.resize(img, (299, 299)).reshape((299, 299, 3))\n",
    "    cv2.imwrite(os.path.join(raw_data_folder, 'singleProc', filename), img[:,:,::-1])\n",
    "    print_progress(i+1, total_files, before_msg='Loading Data')\n",
    "    if i%100 == 0:\n",
    "        gc.collect()"
   ]
  },
  {
   "cell_type": "code",
   "execution_count": null,
   "id": "306c1655",
   "metadata": {},
   "outputs": [],
   "source": []
  }
 ],
 "metadata": {
  "kernelspec": {
   "display_name": "Python [conda env:aib]",
   "language": "python",
   "name": "conda-env-aib-py"
  },
  "language_info": {
   "codemirror_mode": {
    "name": "ipython",
    "version": 3
   },
   "file_extension": ".py",
   "mimetype": "text/x-python",
   "name": "python",
   "nbconvert_exporter": "python",
   "pygments_lexer": "ipython3",
   "version": "3.8.11"
  }
 },
 "nbformat": 4,
 "nbformat_minor": 5
}
